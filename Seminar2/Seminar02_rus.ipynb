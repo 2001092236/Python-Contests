{
  "nbformat": 4,
  "nbformat_minor": 0,
  "metadata": {
    "celltoolbar": "Slideshow",
    "kernelspec": {
      "display_name": "Python 3",
      "language": "python",
      "name": "python3"
    },
    "language_info": {
      "codemirror_mode": {
        "name": "ipython",
        "version": 3
      },
      "file_extension": ".py",
      "mimetype": "text/x-python",
      "name": "python",
      "nbconvert_exporter": "python",
      "pygments_lexer": "ipython3",
      "version": "3.8.2"
    },
    "colab": {
      "name": "Seminar02_rus.ipynb",
      "provenance": []
    }
  },
  "cells": [
    {
      "cell_type": "code",
      "metadata": {
        "collapsed": true,
        "id": "pC1uKh8VcfZB"
      },
      "source": [
        "from IPython.core.interactiveshell import InteractiveShell\n",
        "InteractiveShell.ast_node_interactivity = \"all\""
      ],
      "execution_count": null,
      "outputs": []
    },
    {
      "cell_type": "markdown",
      "metadata": {
        "id": "LoaC5yXUcfZM"
      },
      "source": [
        "# PYTHON 3\n",
        "\n",
        "## Условия, циклы, контейнеры\n",
        "\n",
        "\n",
        "### Евгений Баулин\n",
        "\n",
        "\n",
        "MIPT 2020"
      ]
    },
    {
      "cell_type": "markdown",
      "metadata": {
        "id": "CUgJL0XEcfZN"
      },
      "source": [
        "# Содержание \n",
        "\n",
        "1. Условный оператор\n",
        "2. Тернарный условный оператор\n",
        "3. Цикл while\n",
        "4. Цикл for \n",
        "5. Tuple/list и основные операции с ними\n",
        "6. range\n",
        "7. list comprehensions\n",
        "8. generator expressions\n",
        "9. Модуль itertools"
      ]
    },
    {
      "cell_type": "markdown",
      "metadata": {
        "id": "ZKojco93cfZP"
      },
      "source": [
        "# 1. Условные операторы (if, elif, else)\n",
        "\n",
        "Условные операторы в Python выглядит следующим образом:\n"
      ]
    },
    {
      "cell_type": "code",
      "metadata": {
        "collapsed": true,
        "id": "mr3ZlBZHcfZP"
      },
      "source": [
        "question = 'Can I drive a car'\n",
        "\n",
        "# функция input() - запрашивает ввод значения пользователем\n",
        "\n",
        "age = input(\"Укажите свой возраст: \")  # аргумент - текст сообщения\n",
        "\n",
        "age = int(age) # функция int преобразовывает введённое пользователем значение в целочисленный формат\n",
        "\n",
        "\n",
        "if age >= 18: # Если вам есть 18\n",
        "    \n",
        "    answer = 'Yes, you can drive'\n",
        "\n",
        "else: # Иначе\n",
        "    \n",
        "    answer = \"No, you can't drive\"\n",
        "    \n",
        "print(answer)"
      ],
      "execution_count": null,
      "outputs": []
    },
    {
      "cell_type": "markdown",
      "metadata": {
        "id": "j7azfIaacfZQ"
      },
      "source": [
        "Замечание 1.  Двоеточие после условия (в конце строки if) обязательно!\n",
        "\n",
        "Замечание 2.  После if и после else!\n",
        "\n",
        "### Замечание 3:\n",
        "#### В питоне группы команд определяются ОТСТУПАМИ! За отступами нужно ВНИМАТЕЛЬНО следить! Отступами могут служить и пробелы и знаки табуляции, причём в любом количестве, главное, чтобы команды из одной группы находились на одном уровне.\n",
        "\n"
      ]
    },
    {
      "cell_type": "markdown",
      "metadata": {
        "id": "gySYhk2BcfZR"
      },
      "source": [
        "### Замечание 4: \n",
        "\n",
        "В Питоне нет операторных скобок, в отличие от таких языков, как С++ или Java. В этих языках набор команд, которые должны быть выполнены при определённом условии, определяется расположением скобок, например что-то вроде:\n",
        "```\n",
        "ЕСЛИ условие1, ТО {\n",
        "команда1\n",
        "команда2}\n",
        "ИНАЧЕ {\n",
        "команда3}\n",
        "```\n",
        "Здесь команды 1 и 2 выполняются при условии1, иначе выполняется команда3.\n",
        "\n",
        "На питоне это выглядит вот так:\n",
        "```\n",
        "if условие1:\n",
        "    команда1\n",
        "    команда2\n",
        "else:\n",
        "    команда3\n",
        "```\n"
      ]
    },
    {
      "cell_type": "markdown",
      "metadata": {
        "id": "IgGQO35WcfZR"
      },
      "source": [
        "Проверок может быть и несколько сразу:"
      ]
    },
    {
      "cell_type": "code",
      "metadata": {
        "collapsed": true,
        "id": "Bbx2lcwycfZS"
      },
      "source": [
        "question = 'Can I drive a car?'\n",
        "\n",
        "age = int(input(\"Укажите свой возраст: \"))  # Удобно использовать int(input()), если вы запрашиваете число\n",
        "\n",
        "country = 'Russia'\n",
        "#country = 'USA'\n",
        "\n",
        "if age >= 16 and country == 'USA':  # Если вам есть 16 и вы живете в США\n",
        "    \n",
        "    answer = 'Yes, you can drive'\n",
        "\n",
        "else:\n",
        "    if age >= 18 and country == 'Russia':  # Если условие выше неверно, но вам есть 18 и вы живете в России\n",
        "    \n",
        "        answer = 'Yes, you can drive'\n",
        "    \n",
        "    else: # Иначе\n",
        "    \n",
        "        answer = \"No, you can't drive\"\n",
        "    \n",
        "print(answer)"
      ],
      "execution_count": null,
      "outputs": []
    },
    {
      "cell_type": "markdown",
      "metadata": {
        "id": "3CNr9wHocfZU"
      },
      "source": [
        "else + if == elif!"
      ]
    },
    {
      "cell_type": "code",
      "metadata": {
        "collapsed": true,
        "id": "NdZ1mpw2cfZU"
      },
      "source": [
        "question = 'Can I drive a car?'\n",
        "\n",
        "age = int(input(\"Укажите свой возраст: \"))  # Удобно использовать int(input()), если вы запрашиваете число\n",
        "\n",
        "country = 'Russia'\n",
        "#country = 'USA'\n",
        "\n",
        "if age >= 16 and country == 'USA':  # Если вам есть 16 и вы живете в США\n",
        "    \n",
        "    answer = 'Yes, you can drive'\n",
        "\n",
        "#elif - сокращение от else if\n",
        "elif age >= 18 and country == 'Russia':  # Если условие выше неверно, но вам есть 18 и вы живете в России\n",
        "    \n",
        "    answer = 'Yes, you can drive'\n",
        "    \n",
        "else: # Иначе\n",
        "    \n",
        "    answer = \"No, you can't drive\"\n",
        "    \n",
        "print(answer)"
      ],
      "execution_count": null,
      "outputs": []
    },
    {
      "cell_type": "markdown",
      "metadata": {
        "id": "NvrJpOBwcfZW"
      },
      "source": [
        "# 2. Тернарный условный оператор\n"
      ]
    },
    {
      "cell_type": "code",
      "metadata": {
        "id": "j-2y9QFGcfZW",
        "outputId": "28b006d5-53c7-499c-e4da-fb896e4522f8"
      },
      "source": [
        "#a if condition else b\n",
        "\n",
        "'true' if True else 'false'\n",
        "'true' if False else 'false'"
      ],
      "execution_count": null,
      "outputs": [
        {
          "output_type": "execute_result",
          "data": {
            "text/plain": [
              "'true'"
            ]
          },
          "metadata": {
            "tags": []
          },
          "execution_count": 4
        },
        {
          "output_type": "execute_result",
          "data": {
            "text/plain": [
              "'false'"
            ]
          },
          "metadata": {
            "tags": []
          },
          "execution_count": 4
        }
      ]
    },
    {
      "cell_type": "code",
      "metadata": {
        "id": "ZtZFFxZQcfZY",
        "outputId": "f73d2aac-4a6f-4ada-bc81-af42dbe29b5c"
      },
      "source": [
        "#Можно использовать в выражениях\n",
        "\n",
        "x, y = 5, 3  # Да, так можно\n",
        "x, y = y, x  # И так тоже!\n",
        "\n",
        "z = 3 + x if x > y else y\n",
        "\n",
        "print(z)\n",
        "\n",
        "z = 3 + (x if x > y else y) # Внимательнее с порядком вычислений\n",
        "\n",
        "print(z)"
      ],
      "execution_count": null,
      "outputs": [
        {
          "output_type": "stream",
          "text": [
            "5\n",
            "8\n"
          ],
          "name": "stdout"
        }
      ]
    },
    {
      "cell_type": "code",
      "metadata": {
        "id": "BWnAQtuhcfZZ",
        "outputId": "96b131ec-b3fc-43dc-efc0-e0f878e5496f"
      },
      "source": [
        "# Можно использовать подряд (но лучше не надо)\n",
        "age = 15\n",
        "'kid' if age < 13 else 'teenager' if age < 18 else 'adult'"
      ],
      "execution_count": null,
      "outputs": [
        {
          "output_type": "execute_result",
          "data": {
            "text/plain": [
              "'teenager'"
            ]
          },
          "metadata": {
            "tags": []
          },
          "execution_count": 10
        }
      ]
    },
    {
      "cell_type": "code",
      "metadata": {
        "id": "1tXHtg_fcfZb",
        "outputId": "033a6e63-bfbe-4351-b3a8-14baabab7cfd"
      },
      "source": [
        "# Эквивалентная конструкция:\n",
        "\n",
        "nice = True\n",
        "\n",
        "personality = \"nice\" if nice else \"mean\"\n",
        "print(\"The cat is \", personality)\n",
        "\n",
        "personality = (\"mean\", \"nice\")[nice]\n",
        "print(\"The cat is \", personality)"
      ],
      "execution_count": null,
      "outputs": [
        {
          "output_type": "stream",
          "text": [
            "The cat is  nice\n",
            "The cat is  nice\n"
          ],
          "name": "stdout"
        }
      ]
    },
    {
      "cell_type": "markdown",
      "metadata": {
        "id": "d4Xs-kPxcfZc"
      },
      "source": [
        "# 3. Цикл while\n"
      ]
    },
    {
      "cell_type": "code",
      "metadata": {
        "id": "3NrQKHTXcfZc",
        "outputId": "159a6572-5d15-48d2-d74a-715be0d2e109"
      },
      "source": [
        "greetings = 1\n",
        "\n",
        "while greetings <= 3:\n",
        "    \n",
        "    print(greetings)\n",
        "    print('Hello! ' * greetings)\n",
        "    # Оператор += увеличивает переменную на заданное число \n",
        "    greetings += 1 # эквивалентно: greetings = greetings + 1"
      ],
      "execution_count": null,
      "outputs": [
        {
          "output_type": "stream",
          "text": [
            "1\n",
            "Hello! \n",
            "2\n",
            "Hello! Hello! \n",
            "3\n",
            "Hello! Hello! Hello! \n"
          ],
          "name": "stdout"
        }
      ]
    },
    {
      "cell_type": "markdown",
      "metadata": {
        "id": "nezRD5BYcfZd"
      },
      "source": [
        "break"
      ]
    },
    {
      "cell_type": "code",
      "metadata": {
        "id": "3SrVZWJ9cfZd",
        "outputId": "6fe0f502-9058-404c-8db7-70b764ddf2b4"
      },
      "source": [
        "i = 0\n",
        "k = 5\n",
        "\n",
        "S = 0 # Сумма первых 100 чисел\n",
        "\n",
        "while True:\n",
        "    \n",
        "    i += 1\n",
        "    S += i\n",
        "    \n",
        "    if not i < 100: break\n",
        "    \n",
        "\n",
        "print(S) "
      ],
      "execution_count": null,
      "outputs": [
        {
          "output_type": "stream",
          "text": [
            "5050\n"
          ],
          "name": "stdout"
        }
      ]
    },
    {
      "cell_type": "markdown",
      "metadata": {
        "id": "0OTYlNdecfZf"
      },
      "source": [
        "continue"
      ]
    },
    {
      "cell_type": "code",
      "metadata": {
        "id": "aY3NyF4wcfZf",
        "outputId": "e5265cc4-3a8e-438a-db19-cf3234291a09"
      },
      "source": [
        "i = 0\n",
        "k = 5\n",
        "\n",
        "S = 0 # Сумма первых 100 чисел не кратных k  \n",
        "\n",
        "while i < 100:\n",
        "    \n",
        "    i += 1\n",
        "    \n",
        "    if not i % k:\n",
        "        continue\n",
        "        \n",
        "    S += i\n",
        "    \n",
        "\n",
        "print(S)    "
      ],
      "execution_count": null,
      "outputs": [
        {
          "output_type": "stream",
          "text": [
            "4000\n"
          ],
          "name": "stdout"
        }
      ]
    },
    {
      "cell_type": "code",
      "metadata": {
        "id": "SFMfZdgRcfZg",
        "outputId": "66ae7d34-3373-4dfd-e672-433160b52554"
      },
      "source": [
        "# Конструкция while..else\n",
        "\n",
        "numbers = [1, 3, 7, 8, 10, 5]\n",
        "i = 0\n",
        "\n",
        "while i < len(numbers):\n",
        "    \n",
        "    if numbers[i] == 5:\n",
        "        \n",
        "        print('Нашли пятёрку')\n",
        "        break\n",
        "    \n",
        "    i += 1\n",
        "        \n",
        "else: # если break не сработал\n",
        "    \n",
        "    print('Не нашли пятёрку')\n"
      ],
      "execution_count": null,
      "outputs": [
        {
          "output_type": "stream",
          "text": [
            "Нашли пятёрку\n"
          ],
          "name": "stdout"
        }
      ]
    },
    {
      "cell_type": "markdown",
      "metadata": {
        "id": "MBhhZqYwcfZg"
      },
      "source": [
        "В Python условия и циклы не создают своих областей видимости!"
      ]
    },
    {
      "cell_type": "markdown",
      "metadata": {
        "id": "j5mqfA3ZcfZg"
      },
      "source": [
        "# 4. Цикл for \n",
        "\n"
      ]
    },
    {
      "cell_type": "code",
      "metadata": {
        "id": "z9E40nUDcfZh",
        "outputId": "270c7e70-1d11-4674-8757-1fde093e5f69"
      },
      "source": [
        "for i in range(10):\n",
        "    print(i)"
      ],
      "execution_count": null,
      "outputs": [
        {
          "output_type": "stream",
          "text": [
            "0\n",
            "1\n",
            "2\n",
            "3\n",
            "4\n",
            "5\n",
            "6\n",
            "7\n",
            "8\n",
            "9\n"
          ],
          "name": "stdout"
        }
      ]
    },
    {
      "cell_type": "code",
      "metadata": {
        "id": "tRPUtICgcfZh",
        "outputId": "b5c21cde-725f-4d98-f549-e575a80f0040"
      },
      "source": [
        "NameList = ['Alice', 'Bob', 'Charley']\n",
        "\n",
        "for name in NameList: # Перебираем элементы списка\n",
        "    \n",
        "    print('Hello, ' + name)\n",
        "    \n",
        "print()\n",
        "    \n",
        "for i in range(len(NameList)): # Перебираем индексы от 0 до L-1\n",
        "    \n",
        "    print('Hello, ' + NameList[i])\n",
        "\n",
        "print()    \n",
        "    \n",
        "for i, name in enumerate(NameList): # Перебираем пары индекс-элемент\n",
        "    \n",
        "    print('Hello, ' + NameList[i])"
      ],
      "execution_count": null,
      "outputs": [
        {
          "output_type": "stream",
          "text": [
            "Hello, Alice\n",
            "Hello, Bob\n",
            "Hello, Charley\n",
            "\n",
            "Hello, Alice\n",
            "Hello, Bob\n",
            "Hello, Charley\n",
            "\n",
            "Hello, Alice\n",
            "Hello, Bob\n",
            "Hello, Charley\n"
          ],
          "name": "stdout"
        }
      ]
    },
    {
      "cell_type": "code",
      "metadata": {
        "id": "pWYcPJ1ecfZi",
        "outputId": "7e9b52e4-b9ff-4af2-8ac9-f3ae67fa41de"
      },
      "source": [
        "#break\n",
        "#Поздороваемся только с двумя людьми\n",
        "\n",
        "NameList = ['Alice', 'Bob', 'Charley']\n",
        "\n",
        "for i in range(len(NameList)):\n",
        "    \n",
        "    print('Hello, ' + NameList[i])\n",
        "    \n",
        "    if i > 0: \n",
        "        \n",
        "        break\n",
        "        "
      ],
      "execution_count": null,
      "outputs": [
        {
          "output_type": "stream",
          "text": [
            "Hello, Alice\n",
            "Hello, Bob\n"
          ],
          "name": "stdout"
        }
      ]
    },
    {
      "cell_type": "code",
      "metadata": {
        "id": "K7RCncxacfZi",
        "outputId": "cbfc6f6a-ca27-4015-c865-826c90a11edb"
      },
      "source": [
        "#continue\n",
        "#Не будем здороваться с Бобом\n",
        "\n",
        "NameList = ['Alice', 'Bob', 'Charley']\n",
        "\n",
        "for name in NameList: # Перебираем элементы списка\n",
        "    \n",
        "    if name == 'Bob': \n",
        "        \n",
        "        continue\n",
        "    \n",
        "    print('Hello, ' + name)"
      ],
      "execution_count": null,
      "outputs": [
        {
          "output_type": "stream",
          "text": [
            "Hello, Alice\n",
            "Hello, Charley\n"
          ],
          "name": "stdout"
        }
      ]
    },
    {
      "cell_type": "code",
      "metadata": {
        "id": "gU56B-xZcfZi",
        "outputId": "94d4e05c-effc-467f-b1d5-3a59160e8f9e"
      },
      "source": [
        "# Конструкция for..else\n",
        "\n",
        "numbers = [1, 3, 7, 8, 10]\n",
        "\n",
        "for n in numbers:\n",
        "    \n",
        "    if n == 5:\n",
        "        \n",
        "        print('Нашли пятёрку')\n",
        "        break\n",
        "        \n",
        "else: # если break не сработал\n",
        "    \n",
        "    print('Не нашли пятёрку')\n"
      ],
      "execution_count": null,
      "outputs": [
        {
          "output_type": "stream",
          "text": [
            "Не нашли пятёрку\n"
          ],
          "name": "stdout"
        }
      ]
    },
    {
      "cell_type": "code",
      "metadata": {
        "collapsed": true,
        "id": "19GERCbXcfZj"
      },
      "source": [
        "#pass - ничего не делает\n",
        "for n in (1, 2, 3): \n",
        "    pass"
      ],
      "execution_count": null,
      "outputs": []
    },
    {
      "cell_type": "code",
      "metadata": {
        "id": "Mbek0YyTcfZj",
        "outputId": "97f21b73-4214-4fdc-cfef-b1b136425590"
      },
      "source": [
        "#Для чего нужен pass:\n",
        "for n in (1, 2, 3):\n",
        "    "
      ],
      "execution_count": null,
      "outputs": [
        {
          "output_type": "error",
          "ename": "SyntaxError",
          "evalue": "unexpected EOF while parsing (<ipython-input-40-b90b10cfe39b>, line 2)",
          "traceback": [
            "\u001b[0;36m  File \u001b[0;32m\"<ipython-input-40-b90b10cfe39b>\"\u001b[0;36m, line \u001b[0;32m2\u001b[0m\n\u001b[0;31m    for n in (1,2,3):\u001b[0m\n\u001b[0m                     ^\u001b[0m\n\u001b[0;31mSyntaxError\u001b[0m\u001b[0;31m:\u001b[0m unexpected EOF while parsing\n"
          ]
        }
      ]
    },
    {
      "cell_type": "markdown",
      "metadata": {
        "id": "zwomhwMIcfZk"
      },
      "source": [
        "# 5. Tuple/list и основные операции с ними\n"
      ]
    },
    {
      "cell_type": "code",
      "metadata": {
        "id": "TH96MgVucfZk",
        "outputId": "0a725476-31ba-409c-b71b-d4ca9d5971e3"
      },
      "source": [
        "t = ['i', 'cannot', 'be', 'modified']\n",
        "type(t)\n",
        "t[1] = 'can'\n",
        "t\n",
        "\n",
        "t = ('i', 'cannot', 'be', 'modified')\n",
        "type(t)\n",
        "t[1] = 'can'\n",
        "t"
      ],
      "execution_count": null,
      "outputs": [
        {
          "output_type": "execute_result",
          "data": {
            "text/plain": [
              "list"
            ]
          },
          "metadata": {
            "tags": []
          },
          "execution_count": 37
        },
        {
          "output_type": "execute_result",
          "data": {
            "text/plain": [
              "['i', 'can', 'be', 'modified']"
            ]
          },
          "metadata": {
            "tags": []
          },
          "execution_count": 37
        },
        {
          "output_type": "execute_result",
          "data": {
            "text/plain": [
              "tuple"
            ]
          },
          "metadata": {
            "tags": []
          },
          "execution_count": 37
        },
        {
          "output_type": "error",
          "ename": "TypeError",
          "evalue": "'tuple' object does not support item assignment",
          "traceback": [
            "\u001b[0;31m---------------------------------------------------------------------------\u001b[0m",
            "\u001b[0;31mTypeError\u001b[0m                                 Traceback (most recent call last)",
            "\u001b[0;32m<ipython-input-37-53ad9c23e4c9>\u001b[0m in \u001b[0;36m<module>\u001b[0;34m\u001b[0m\n\u001b[1;32m      6\u001b[0m \u001b[0mt\u001b[0m \u001b[0;34m=\u001b[0m \u001b[0;34m(\u001b[0m\u001b[0;34m'i'\u001b[0m\u001b[0;34m,\u001b[0m \u001b[0;34m'cannot'\u001b[0m\u001b[0;34m,\u001b[0m \u001b[0;34m'be'\u001b[0m\u001b[0;34m,\u001b[0m \u001b[0;34m'modified'\u001b[0m\u001b[0;34m)\u001b[0m\u001b[0;34m\u001b[0m\u001b[0;34m\u001b[0m\u001b[0m\n\u001b[1;32m      7\u001b[0m \u001b[0mtype\u001b[0m\u001b[0;34m(\u001b[0m\u001b[0mt\u001b[0m\u001b[0;34m)\u001b[0m\u001b[0;34m\u001b[0m\u001b[0;34m\u001b[0m\u001b[0m\n\u001b[0;32m----> 8\u001b[0;31m \u001b[0mt\u001b[0m\u001b[0;34m[\u001b[0m\u001b[0;36m1\u001b[0m\u001b[0;34m]\u001b[0m \u001b[0;34m=\u001b[0m \u001b[0;34m'can'\u001b[0m\u001b[0;34m\u001b[0m\u001b[0;34m\u001b[0m\u001b[0m\n\u001b[0m\u001b[1;32m      9\u001b[0m \u001b[0mt\u001b[0m\u001b[0;34m\u001b[0m\u001b[0;34m\u001b[0m\u001b[0m\n",
            "\u001b[0;31mTypeError\u001b[0m: 'tuple' object does not support item assignment"
          ]
        }
      ]
    },
    {
      "cell_type": "code",
      "metadata": {
        "id": "-7T3aDTccfZl",
        "outputId": "e41d3263-2ade-44b0-f152-27f520e84e6f"
      },
      "source": [
        "# Оператор связывания не создаёт копии контейнеров!\n",
        "\n",
        "c = [1, 1, 1]\n",
        "\n",
        "a = [c] * 3\n",
        "\n",
        "a\n",
        "\n",
        "c[0] = 0\n",
        "\n",
        "a\n",
        "\n",
        "a[0][0] = 2\n",
        "\n",
        "a\n",
        "\n",
        "c"
      ],
      "execution_count": null,
      "outputs": [
        {
          "output_type": "execute_result",
          "data": {
            "text/plain": [
              "[[1, 1, 1], [1, 1, 1], [1, 1, 1]]"
            ]
          },
          "metadata": {
            "tags": []
          },
          "execution_count": 4
        },
        {
          "output_type": "execute_result",
          "data": {
            "text/plain": [
              "[[0, 1, 1], [0, 1, 1], [0, 1, 1]]"
            ]
          },
          "metadata": {
            "tags": []
          },
          "execution_count": 4
        },
        {
          "output_type": "execute_result",
          "data": {
            "text/plain": [
              "[[2, 1, 1], [2, 1, 1], [2, 1, 1]]"
            ]
          },
          "metadata": {
            "tags": []
          },
          "execution_count": 4
        },
        {
          "output_type": "execute_result",
          "data": {
            "text/plain": [
              "[2, 1, 1]"
            ]
          },
          "metadata": {
            "tags": []
          },
          "execution_count": 4
        }
      ]
    },
    {
      "cell_type": "code",
      "metadata": {
        "id": "V4UddnIYcfZm",
        "outputId": "d5919469-1823-45d4-d471-960def216437"
      },
      "source": [
        "#срезы (slices)\n",
        "tea_party = ('Rabbit', 'Bear', 'Fox', 'Turtle')\n",
        "\n",
        "#tea_party[a:b:s]\n",
        "tea_party[:] # Если нет ни a, ни b - выводится список целиком\n",
        "tea_party[1:3] # а включительно, b НЕ включительно\n",
        "tea_party[:2]\n",
        "tea_party[3:]\n",
        "tea_party[-1] # Последний элемент списка\n",
        "tea_party[:-1] # Все элементы списка, кроме последнего\n",
        "tea_party[0:5:2] # а ещё можно задать шаг прохода s - в данном случае элементы выводятся \"через один\"\n",
        "tea_party[::-1] # а если задать шаг равным -1, список можно развернуть!\n",
        "tea_party[4] # вылезли за пределы"
      ],
      "execution_count": null,
      "outputs": [
        {
          "output_type": "execute_result",
          "data": {
            "text/plain": [
              "('Rabbit', 'Bear', 'Fox', 'Turtle')"
            ]
          },
          "metadata": {
            "tags": []
          },
          "execution_count": 19
        },
        {
          "output_type": "execute_result",
          "data": {
            "text/plain": [
              "('Bear', 'Fox')"
            ]
          },
          "metadata": {
            "tags": []
          },
          "execution_count": 19
        },
        {
          "output_type": "execute_result",
          "data": {
            "text/plain": [
              "('Rabbit', 'Bear')"
            ]
          },
          "metadata": {
            "tags": []
          },
          "execution_count": 19
        },
        {
          "output_type": "execute_result",
          "data": {
            "text/plain": [
              "('Turtle',)"
            ]
          },
          "metadata": {
            "tags": []
          },
          "execution_count": 19
        },
        {
          "output_type": "execute_result",
          "data": {
            "text/plain": [
              "'Turtle'"
            ]
          },
          "metadata": {
            "tags": []
          },
          "execution_count": 19
        },
        {
          "output_type": "execute_result",
          "data": {
            "text/plain": [
              "('Rabbit', 'Bear', 'Fox')"
            ]
          },
          "metadata": {
            "tags": []
          },
          "execution_count": 19
        },
        {
          "output_type": "execute_result",
          "data": {
            "text/plain": [
              "('Rabbit', 'Fox')"
            ]
          },
          "metadata": {
            "tags": []
          },
          "execution_count": 19
        },
        {
          "output_type": "execute_result",
          "data": {
            "text/plain": [
              "('Turtle', 'Fox', 'Bear', 'Rabbit')"
            ]
          },
          "metadata": {
            "tags": []
          },
          "execution_count": 19
        },
        {
          "output_type": "error",
          "ename": "IndexError",
          "evalue": "tuple index out of range",
          "traceback": [
            "\u001b[0;31m---------------------------------------------------------------------------\u001b[0m",
            "\u001b[0;31mIndexError\u001b[0m                                Traceback (most recent call last)",
            "\u001b[0;32m<ipython-input-19-605c78e5c83e>\u001b[0m in \u001b[0;36m<module>\u001b[0;34m\u001b[0m\n\u001b[1;32m     11\u001b[0m \u001b[0mtea_party\u001b[0m\u001b[0;34m[\u001b[0m\u001b[0;36m0\u001b[0m\u001b[0;34m:\u001b[0m\u001b[0;36m5\u001b[0m\u001b[0;34m:\u001b[0m\u001b[0;36m2\u001b[0m\u001b[0;34m]\u001b[0m \u001b[0;31m# а ещё можно задать шаг прохода s - в данном случае элементы выводятся \"через один\"\u001b[0m\u001b[0;34m\u001b[0m\u001b[0;34m\u001b[0m\u001b[0m\n\u001b[1;32m     12\u001b[0m \u001b[0mtea_party\u001b[0m\u001b[0;34m[\u001b[0m\u001b[0;34m:\u001b[0m\u001b[0;34m:\u001b[0m\u001b[0;34m-\u001b[0m\u001b[0;36m1\u001b[0m\u001b[0;34m]\u001b[0m \u001b[0;31m# а если задать шаг равным -1, список можно развернуть!\u001b[0m\u001b[0;34m\u001b[0m\u001b[0;34m\u001b[0m\u001b[0m\n\u001b[0;32m---> 13\u001b[0;31m \u001b[0mtea_party\u001b[0m\u001b[0;34m[\u001b[0m\u001b[0;36m4\u001b[0m\u001b[0;34m]\u001b[0m \u001b[0;31m# вылезли за пределы\u001b[0m\u001b[0;34m\u001b[0m\u001b[0;34m\u001b[0m\u001b[0m\n\u001b[0m",
            "\u001b[0;31mIndexError\u001b[0m: tuple index out of range"
          ]
        }
      ]
    },
    {
      "cell_type": "code",
      "metadata": {
        "id": "zQHh_RXzcfZm",
        "outputId": "715a9a39-9b1d-430e-b48c-15a072616880"
      },
      "source": [
        "# Изменения по срезам\n",
        "\n",
        "tea_party_list = list(tea_party)\n",
        "\n",
        "tea_party_list\n",
        "id(tea_party_list)\n",
        "\n",
        "tea_party_list[1:3] = ['Cat','Whale']\n",
        "\n",
        "tea_party_list\n",
        "id(tea_party_list)"
      ],
      "execution_count": null,
      "outputs": [
        {
          "output_type": "execute_result",
          "data": {
            "text/plain": [
              "['Rabbit', 'Bear', 'Fox', 'Turtle']"
            ]
          },
          "metadata": {
            "tags": []
          },
          "execution_count": 21
        },
        {
          "output_type": "execute_result",
          "data": {
            "text/plain": [
              "140275043542408"
            ]
          },
          "metadata": {
            "tags": []
          },
          "execution_count": 21
        },
        {
          "output_type": "execute_result",
          "data": {
            "text/plain": [
              "['Rabbit', 'Cat', 'Whale', 'Turtle']"
            ]
          },
          "metadata": {
            "tags": []
          },
          "execution_count": 21
        },
        {
          "output_type": "execute_result",
          "data": {
            "text/plain": [
              "140275043542408"
            ]
          },
          "metadata": {
            "tags": []
          },
          "execution_count": 21
        }
      ]
    },
    {
      "cell_type": "code",
      "metadata": {
        "id": "sqC6S0ZQcfZm",
        "outputId": "c68e21b8-557b-4b40-f0aa-da6b6bd98a6a"
      },
      "source": [
        "#Копирование через срезы\n",
        "\n",
        "tea_party_not_so_copy = tea_party_list\n",
        "\n",
        "tea_party_not_so_copy is tea_party_list\n",
        "\n",
        "tea_party_copy = tea_party_list[:]\n",
        "\n",
        "tea_party_copy is tea_party_list\n"
      ],
      "execution_count": null,
      "outputs": [
        {
          "output_type": "execute_result",
          "data": {
            "text/plain": [
              "True"
            ]
          },
          "metadata": {
            "tags": []
          },
          "execution_count": 23
        },
        {
          "output_type": "execute_result",
          "data": {
            "text/plain": [
              "False"
            ]
          },
          "metadata": {
            "tags": []
          },
          "execution_count": 23
        }
      ]
    },
    {
      "cell_type": "code",
      "metadata": {
        "id": "WS0Vh3KdcfZn",
        "outputId": "2548cb13-5843-4463-d144-9f2355fc31aa"
      },
      "source": [
        "#методы\n",
        "spisok = [1, 3, 5, 7, 7, 7, 5, 3, 1]\n",
        "\n",
        "spisok.append(8) # Метод append(v) добавляет в конец нашего списка новый элемент, здесь - число 8\n",
        "print(spisok)\n",
        "\n",
        "spisok.insert(1,2) # Метод insert(a,b) вставляет элемент b в позицию с индексом a в наш список\n",
        "print(spisok)\n",
        "\n",
        "spisok.remove(3) # Метод remove(v) удаляет из списка элемент со значением v (если v несколько - первое слева)\n",
        "print(spisok)\n",
        "\n",
        "i = 4\n",
        "del spisok[i] # А вот так можно удалить элемент по индексу i, а не по значению v\n",
        "print(spisok)\n",
        "\n",
        "sevens = spisok.count(7) # Метод count(v) возвращает число равных v элементов в списке\n",
        "print(sevens)\n",
        "\n",
        "spisok.sort() #Сортируем список \n",
        "print(spisok)\n",
        "\n",
        "d = spisok.pop() # Получаем последний элемент, удаляя его из списка\n",
        "print(d)\n",
        "print(spisok)"
      ],
      "execution_count": null,
      "outputs": [
        {
          "output_type": "stream",
          "text": [
            "[1, 3, 5, 7, 7, 7, 5, 3, 1, 8]\n",
            "[1, 2, 3, 5, 7, 7, 7, 5, 3, 1, 8]\n",
            "[1, 2, 5, 7, 7, 7, 5, 3, 1, 8]\n",
            "[1, 2, 5, 7, 7, 5, 3, 1, 8]\n",
            "2\n",
            "[1, 1, 2, 3, 5, 5, 7, 7, 8]\n",
            "8\n",
            "[1, 1, 2, 3, 5, 5, 7, 7]\n"
          ],
          "name": "stdout"
        }
      ]
    },
    {
      "cell_type": "code",
      "metadata": {
        "id": "1MXI4v7ZcfZn",
        "outputId": "83a03bce-290d-4828-cc68-1d8dd2c0110d"
      },
      "source": [
        "#функции\n",
        "\n",
        "spisok = [1, 3, 5, 7, 7, 7, 5, 3, 1]\n",
        "\n",
        "len(spisok)\n",
        "sum(spisok)\n",
        "max(spisok)\n",
        "min(spisok)\n",
        "\n",
        "sorted_spisok = sorted(spisok) # В отличие от list.sort(), sorted() не меняет исходный список, а создаёт копию\n",
        "spisok\n",
        "sorted_spisok"
      ],
      "execution_count": null,
      "outputs": [
        {
          "output_type": "execute_result",
          "data": {
            "text/plain": [
              "9"
            ]
          },
          "metadata": {
            "tags": []
          },
          "execution_count": 45
        },
        {
          "output_type": "execute_result",
          "data": {
            "text/plain": [
              "39"
            ]
          },
          "metadata": {
            "tags": []
          },
          "execution_count": 45
        },
        {
          "output_type": "execute_result",
          "data": {
            "text/plain": [
              "7"
            ]
          },
          "metadata": {
            "tags": []
          },
          "execution_count": 45
        },
        {
          "output_type": "execute_result",
          "data": {
            "text/plain": [
              "1"
            ]
          },
          "metadata": {
            "tags": []
          },
          "execution_count": 45
        },
        {
          "output_type": "execute_result",
          "data": {
            "text/plain": [
              "[1, 3, 5, 7, 7, 7, 5, 3, 1]"
            ]
          },
          "metadata": {
            "tags": []
          },
          "execution_count": 45
        },
        {
          "output_type": "execute_result",
          "data": {
            "text/plain": [
              "[1, 1, 3, 3, 5, 5, 7, 7, 7]"
            ]
          },
          "metadata": {
            "tags": []
          },
          "execution_count": 45
        }
      ]
    },
    {
      "cell_type": "code",
      "metadata": {
        "id": "N6evu0vDcfZn",
        "outputId": "aa3a0cec-010f-4d2f-97a8-bcdc6a2067bf"
      },
      "source": [
        "#Функция zip - создание поэлементных кортежей (завершается по минимальному размеру из аргументов)\n",
        "\n",
        "[pair for pair in zip(range(10), 'abc', [1, 2])]"
      ],
      "execution_count": null,
      "outputs": [
        {
          "output_type": "execute_result",
          "data": {
            "text/plain": [
              "[(0, 'a', 1), (1, 'b', 2)]"
            ]
          },
          "metadata": {
            "tags": []
          },
          "execution_count": 6
        }
      ]
    },
    {
      "cell_type": "code",
      "metadata": {
        "id": "x3cZRinKcfZn",
        "outputId": "550c19c9-b442-45ed-fa7e-c3728fecc674"
      },
      "source": [
        "# Оператор распаковки\n",
        "\n",
        "spisok = [1, 2, 3, 4, 5]\n",
        "\n",
        "print(spisok) # печатаем список\n",
        "print(*spisok) # печатаем элементы списка, эквивалент - print(spisok[0],spisok[1],...)"
      ],
      "execution_count": null,
      "outputs": [
        {
          "output_type": "stream",
          "text": [
            "[1, 2, 3, 4, 5]\n",
            "1 2 3 4 5\n"
          ],
          "name": "stdout"
        }
      ]
    },
    {
      "cell_type": "code",
      "metadata": {
        "id": "qMCxMSdXcfZo",
        "outputId": "8c279e5c-6566-4e75-e685-cd9596bb9a28"
      },
      "source": [
        "# Полезные функции split(str) и str.join(list):\n",
        "\n",
        "A = 'Привет, я обычное предложение, во мне есть слова и пробелы'.split(' ')\n",
        "print(A)\n",
        "\n",
        "B = ' '.join(A)\n",
        "print(B)\n",
        "\n",
        "C = B.split('е')\n",
        "print(C)\n",
        "\n",
        "D = 'э'.join(C)\n",
        "print(D)"
      ],
      "execution_count": null,
      "outputs": [
        {
          "output_type": "stream",
          "text": [
            "['Привет,', 'я', 'обычное', 'предложение,', 'во', 'мне', 'есть', 'слова', 'и', 'пробелы']\n",
            "Привет, я обычное предложение, во мне есть слова и пробелы\n",
            "['Прив', 'т, я обычно', ' пр', 'длож', 'ни', ', во мн', ' ', 'сть слова и проб', 'лы']\n",
            "Привэт, я обычноэ прэдложэниэ, во мнэ эсть слова и пробэлы\n"
          ],
          "name": "stdout"
        }
      ]
    },
    {
      "cell_type": "markdown",
      "metadata": {
        "id": "2PV9O-_JcfZp"
      },
      "source": [
        "# 6. range\n"
      ]
    },
    {
      "cell_type": "markdown",
      "metadata": {
        "id": "Jf1n00iecfZp"
      },
      "source": [
        "Часто используются списки, элементами которых являются числа, идущие с определенным шагом. Для создания таких списков можно использовать специальную функцию **range(start, end, step)**:"
      ]
    },
    {
      "cell_type": "code",
      "metadata": {
        "id": "4nThdjP1cfZp",
        "outputId": "08ba6d72-8ae4-4fcf-ee70-2e91c194a468"
      },
      "source": [
        "# Вызов функции range(N) создает список с элементами от 0 до N-1.\n",
        "range(10)\n",
        "# Если честно - функция range(N) является генератором и создаёт объект типа \"итератор\"\n",
        "type(range(10))\n",
        "\n",
        "# Для наглядности будем преобразовывать range в список функцией list()\n",
        "list(range(10)) # если параметр только один, то это параметр end, а start==0 и step==1\n",
        "list(range(1, 10)) # если параметра два, то это (start, end), а step==1\n",
        "list(range(0, 20, 3))\n",
        "\n",
        "# end НЕ включительно!"
      ],
      "execution_count": null,
      "outputs": [
        {
          "output_type": "execute_result",
          "data": {
            "text/plain": [
              "range(0, 10)"
            ]
          },
          "metadata": {
            "tags": []
          },
          "execution_count": 54
        },
        {
          "output_type": "execute_result",
          "data": {
            "text/plain": [
              "range"
            ]
          },
          "metadata": {
            "tags": []
          },
          "execution_count": 54
        },
        {
          "output_type": "execute_result",
          "data": {
            "text/plain": [
              "[0, 1, 2, 3, 4, 5, 6, 7, 8, 9]"
            ]
          },
          "metadata": {
            "tags": []
          },
          "execution_count": 54
        },
        {
          "output_type": "execute_result",
          "data": {
            "text/plain": [
              "[1, 2, 3, 4, 5, 6, 7, 8, 9]"
            ]
          },
          "metadata": {
            "tags": []
          },
          "execution_count": 54
        },
        {
          "output_type": "execute_result",
          "data": {
            "text/plain": [
              "[0, 3, 6, 9, 12, 15, 18]"
            ]
          },
          "metadata": {
            "tags": []
          },
          "execution_count": 54
        }
      ]
    },
    {
      "cell_type": "code",
      "metadata": {
        "id": "7ST_NACKcfZp",
        "outputId": "93564483-1c25-4cec-95bf-47f172736572"
      },
      "source": [
        "list(range(100, 75, -2)) # Шаг может быть и отрицательным\n",
        "     \n",
        "list(range(1, 10, 0.5)) # А вот нецелым числом шаг быть не может!"
      ],
      "execution_count": null,
      "outputs": [
        {
          "output_type": "execute_result",
          "data": {
            "text/plain": [
              "[100, 98, 96, 94, 92, 90, 88, 86, 84, 82, 80, 78, 76]"
            ]
          },
          "metadata": {
            "tags": []
          },
          "execution_count": 55
        },
        {
          "output_type": "error",
          "ename": "TypeError",
          "evalue": "'float' object cannot be interpreted as an integer",
          "traceback": [
            "\u001b[0;31m---------------------------------------------------------------------------\u001b[0m",
            "\u001b[0;31mTypeError\u001b[0m                                 Traceback (most recent call last)",
            "\u001b[0;32m<ipython-input-55-a8b1645d27f5>\u001b[0m in \u001b[0;36m<module>\u001b[0;34m\u001b[0m\n\u001b[1;32m      1\u001b[0m \u001b[0mlist\u001b[0m\u001b[0;34m(\u001b[0m\u001b[0mrange\u001b[0m\u001b[0;34m(\u001b[0m\u001b[0;36m100\u001b[0m\u001b[0;34m,\u001b[0m \u001b[0;36m75\u001b[0m\u001b[0;34m,\u001b[0m \u001b[0;34m-\u001b[0m\u001b[0;36m2\u001b[0m\u001b[0;34m)\u001b[0m\u001b[0;34m)\u001b[0m \u001b[0;31m# Шаг может быть и отрицательным\u001b[0m\u001b[0;34m\u001b[0m\u001b[0;34m\u001b[0m\u001b[0m\n\u001b[1;32m      2\u001b[0m \u001b[0;34m\u001b[0m\u001b[0m\n\u001b[0;32m----> 3\u001b[0;31m \u001b[0mlist\u001b[0m\u001b[0;34m(\u001b[0m\u001b[0mrange\u001b[0m\u001b[0;34m(\u001b[0m\u001b[0;36m1\u001b[0m\u001b[0;34m,\u001b[0m\u001b[0;36m10\u001b[0m\u001b[0;34m,\u001b[0m\u001b[0;36m0.5\u001b[0m\u001b[0;34m)\u001b[0m\u001b[0;34m)\u001b[0m \u001b[0;31m# А вот нецелым числом шаг быть не может!\u001b[0m\u001b[0;34m\u001b[0m\u001b[0;34m\u001b[0m\u001b[0m\n\u001b[0m",
            "\u001b[0;31mTypeError\u001b[0m: 'float' object cannot be interpreted as an integer"
          ]
        }
      ]
    },
    {
      "cell_type": "markdown",
      "metadata": {
        "id": "1jaI1ntgcfZq"
      },
      "source": [
        "# 7. list comprehensions\n"
      ]
    },
    {
      "cell_type": "markdown",
      "metadata": {
        "id": "ToCZxTk8cfZq"
      },
      "source": [
        "### В питоне есть очень удобная штука под названием list comprehension, выглядит она вот так:"
      ]
    },
    {
      "cell_type": "code",
      "metadata": {
        "id": "DnwPowMgcfZr",
        "outputId": "a208cbe0-593c-477c-b079-19e2e173b2e5"
      },
      "source": [
        "#Общий вид такой: [выражение по всем x из список/итератор при условии что x ...]\n",
        "\n",
        "[x**2 for x in range(10) if x%2 == 0] # вот так можно создать список квадратов чётных чисел меньше 10\n"
      ],
      "execution_count": null,
      "outputs": [
        {
          "output_type": "execute_result",
          "data": {
            "text/plain": [
              "[0, 4, 16, 36, 64]"
            ]
          },
          "metadata": {
            "tags": []
          },
          "execution_count": 56
        }
      ]
    },
    {
      "cell_type": "code",
      "metadata": {
        "id": "_r3B9EsScfZs",
        "outputId": "7c3fce27-400f-410e-d081-d412959f74ab"
      },
      "source": [
        "# List comprehension умеет и в двойной цикл\n",
        "\n",
        "sorted([(y, x) for x in range(2, 10) for y in range(x+1, 10) if y%x == 0])"
      ],
      "execution_count": null,
      "outputs": [
        {
          "output_type": "execute_result",
          "data": {
            "text/plain": [
              "[(4, 2), (6, 2), (6, 3), (8, 2), (8, 4), (9, 3)]"
            ]
          },
          "metadata": {
            "tags": []
          },
          "execution_count": 62
        }
      ]
    },
    {
      "cell_type": "code",
      "metadata": {
        "id": "bnddlShzcfZs",
        "outputId": "2d7f0250-d5e6-4529-cc9d-75aa31b42010"
      },
      "source": [
        "# По оговоренным ранее (каким?) причинам, вместо:\n",
        "[[0]*3]*3\n",
        "\n",
        "# Лучше использовать:\n",
        "[[0]*3 for i in range(3)]"
      ],
      "execution_count": null,
      "outputs": [
        {
          "output_type": "execute_result",
          "data": {
            "text/plain": [
              "[[0, 0, 0], [0, 0, 0], [0, 0, 0]]"
            ]
          },
          "metadata": {
            "tags": []
          },
          "execution_count": 63
        },
        {
          "output_type": "execute_result",
          "data": {
            "text/plain": [
              "[[0, 0, 0], [0, 0, 0], [0, 0, 0]]"
            ]
          },
          "metadata": {
            "tags": []
          },
          "execution_count": 63
        }
      ]
    },
    {
      "cell_type": "markdown",
      "metadata": {
        "id": "0EFn_EJpcfZu"
      },
      "source": [
        "# 8. generator expressions\n"
      ]
    },
    {
      "cell_type": "code",
      "metadata": {
        "id": "bZqMKhXlcfZu",
        "outputId": "fb5fc8ce-a6ab-48a1-e74c-fc8bd6a12dd5"
      },
      "source": [
        "# Иногда удобно создать генератор вместо списка, \n",
        "# чтобы не хранить в памяти весь список сразу, \n",
        "# а перебирать по одному\n",
        "\n",
        "sum([x*x for x in range(10)]) # list comprehension\n",
        "sum(x*x for x in range(10))   # generator expression\n",
        "\n",
        "# А в чём разница?\n",
        "\n",
        "type([x*x for x in range(10)])\n",
        "type(x*x for x in range(10))"
      ],
      "execution_count": null,
      "outputs": [
        {
          "output_type": "execute_result",
          "data": {
            "text/plain": [
              "285"
            ]
          },
          "metadata": {
            "tags": []
          },
          "execution_count": 68
        },
        {
          "output_type": "execute_result",
          "data": {
            "text/plain": [
              "285"
            ]
          },
          "metadata": {
            "tags": []
          },
          "execution_count": 68
        },
        {
          "output_type": "execute_result",
          "data": {
            "text/plain": [
              "list"
            ]
          },
          "metadata": {
            "tags": []
          },
          "execution_count": 68
        },
        {
          "output_type": "execute_result",
          "data": {
            "text/plain": [
              "generator"
            ]
          },
          "metadata": {
            "tags": []
          },
          "execution_count": 68
        }
      ]
    },
    {
      "cell_type": "markdown",
      "metadata": {
        "id": "_KaTxHa3cfZu"
      },
      "source": [
        "# 9. itertools\n",
        "\n",
        "https://docs.python.org/3/library/itertools.html"
      ]
    },
    {
      "cell_type": "code",
      "metadata": {
        "id": "fV5J8KYzcfZv",
        "outputId": "5b7d736c-493b-4d38-a673-31a565370a80"
      },
      "source": [
        "import itertools\n",
        "\n",
        "#Product: можно \"разворачивать\" циклы\n",
        "\n",
        "for i in range(2):\n",
        "    for j in \"abc\":\n",
        "        print(i, j)\n",
        "\n",
        "print()\n",
        "\n",
        "#Эквивалентно:\n",
        "for i, j in itertools.product(range(2), \"abc\"):\n",
        "    print(i, j)"
      ],
      "execution_count": null,
      "outputs": [
        {
          "output_type": "stream",
          "text": [
            "0 a\n",
            "0 b\n",
            "0 c\n",
            "1 a\n",
            "1 b\n",
            "1 c\n",
            "\n",
            "0 a\n",
            "0 b\n",
            "0 c\n",
            "1 a\n",
            "1 b\n",
            "1 c\n"
          ],
          "name": "stdout"
        }
      ]
    },
    {
      "cell_type": "markdown",
      "metadata": {
        "id": "loIYw0kHcfZw"
      },
      "source": [
        "Прочая комбинаторика: перестановки, комбинации, комбинации с повторениями"
      ]
    },
    {
      "cell_type": "code",
      "metadata": {
        "id": "cMisQRC3cfZw",
        "outputId": "5ca643c5-c2f6-443b-9a56-799ce2d71173"
      },
      "source": [
        "list(itertools.permutations([1,2,3]))"
      ],
      "execution_count": null,
      "outputs": [
        {
          "output_type": "execute_result",
          "data": {
            "text/plain": [
              "[(1, 2, 3), (1, 3, 2), (2, 1, 3), (2, 3, 1), (3, 1, 2), (3, 2, 1)]"
            ]
          },
          "metadata": {
            "tags": []
          },
          "execution_count": 9
        }
      ]
    },
    {
      "cell_type": "code",
      "metadata": {
        "id": "VWMtVSlUcfZw",
        "outputId": "0e73559d-d1f8-4f74-a967-211a787c0378"
      },
      "source": [
        "list(itertools.combinations([1,2,3], 2))"
      ],
      "execution_count": null,
      "outputs": [
        {
          "output_type": "execute_result",
          "data": {
            "text/plain": [
              "[(1, 2), (1, 3), (2, 3)]"
            ]
          },
          "metadata": {
            "tags": []
          },
          "execution_count": 10
        }
      ]
    },
    {
      "cell_type": "code",
      "metadata": {
        "id": "p5ioHBxwcfZx",
        "outputId": "5fc3d52e-d897-4072-a917-3a669501f8f5"
      },
      "source": [
        "list(itertools.combinations_with_replacement([1,2,3], 2))"
      ],
      "execution_count": null,
      "outputs": [
        {
          "output_type": "execute_result",
          "data": {
            "text/plain": [
              "[(1, 1), (1, 2), (1, 3), (2, 2), (2, 3), (3, 3)]"
            ]
          },
          "metadata": {
            "tags": []
          },
          "execution_count": 11
        }
      ]
    },
    {
      "cell_type": "markdown",
      "metadata": {
        "id": "C-IJXuL-cfZy"
      },
      "source": [
        "Бесконечные генераторы: count, cycle, repeat"
      ]
    },
    {
      "cell_type": "code",
      "metadata": {
        "id": "e0o3_bo8cfZy",
        "outputId": "2c342810-b40c-42e9-d833-ae03c655c6af"
      },
      "source": [
        "for elems in zip(itertools.count(), itertools.cycle([1,2,3]), itertools.repeat(\"oak\"), range(7)):\n",
        "    print(elems)"
      ],
      "execution_count": null,
      "outputs": [
        {
          "output_type": "stream",
          "text": [
            "(0, 1, 'oak', 0)\n",
            "(1, 2, 'oak', 1)\n",
            "(2, 3, 'oak', 2)\n",
            "(3, 1, 'oak', 3)\n",
            "(4, 2, 'oak', 4)\n",
            "(5, 3, 'oak', 5)\n",
            "(6, 1, 'oak', 6)\n"
          ],
          "name": "stdout"
        }
      ]
    },
    {
      "cell_type": "markdown",
      "metadata": {
        "id": "2POe_oSQcfZy"
      },
      "source": [
        "первые N элементов"
      ]
    },
    {
      "cell_type": "code",
      "metadata": {
        "id": "Z6ZCEnH3cfZy",
        "outputId": "6a93229d-65a0-4eb3-c196-47cb5d316355"
      },
      "source": [
        "list(itertools.islice(itertools.count(), 5))"
      ],
      "execution_count": null,
      "outputs": [
        {
          "output_type": "execute_result",
          "data": {
            "text/plain": [
              "[0, 1, 2, 3, 4]"
            ]
          },
          "metadata": {
            "tags": []
          },
          "execution_count": 13
        }
      ]
    },
    {
      "cell_type": "code",
      "metadata": {
        "collapsed": true,
        "id": "tb_D_45EcfZy"
      },
      "source": [
        ""
      ],
      "execution_count": null,
      "outputs": []
    },
    {
      "cell_type": "markdown",
      "metadata": {
        "id": "xncLZT3OcfZz"
      },
      "source": [
        "# Задачи\n",
        "\n",
        "1) На вход подаётся матрица (список списков) - вывести (==создать) транспонированную матрицу (а в одну строку?)\n",
        "\n",
        "2) На вход подаются две матрицы - вывести сумму матриц\n",
        "\n",
        "3) На вход подаются две матрицы - вывести произведение матриц или сообщение о некорректности входа\n",
        "\n",
        "4) На вход подаётся число N - вывести матрицу-спираль размера NxN. Пример для 3x3:\n",
        "```\n",
        "1 2 3 \n",
        "8 9 4\n",
        "7 6 5 ```"
      ]
    },
    {
      "cell_type": "code",
      "metadata": {
        "collapsed": true,
        "id": "IMz5wGP_cfZz"
      },
      "source": [
        "mat = [[1, 2, 3],\n",
        "       [4, 5, 6],\n",
        "       [7, 8, 9]]\n",
        "\n"
      ],
      "execution_count": null,
      "outputs": []
    },
    {
      "cell_type": "code",
      "metadata": {
        "collapsed": true,
        "id": "-QQRbY7ycfZz"
      },
      "source": [
        "mat = [[1, 2, 3],\n",
        "       [4, 5, 6],\n",
        "       [7, 8, 9]]\n",
        "\n",
        "mat2 = [[1, 4, 7], \n",
        "        [2, 5, 8], \n",
        "        [3, 6, 9]]\n",
        "\n"
      ],
      "execution_count": null,
      "outputs": []
    },
    {
      "cell_type": "code",
      "metadata": {
        "collapsed": true,
        "id": "va52QgzDcfZz"
      },
      "source": [
        "mat = [[1, 2, 3],\n",
        "       [4, 5, 6],\n",
        "       [7, 8, 9]]\n",
        "\n",
        "mat2 = [[1, 4, 7], \n",
        "        [2, 5, 8], \n",
        "        [3, 6, 9]]\n"
      ],
      "execution_count": null,
      "outputs": []
    }
  ]
}