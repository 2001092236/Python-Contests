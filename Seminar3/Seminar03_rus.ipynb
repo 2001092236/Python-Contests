{
  "nbformat": 4,
  "nbformat_minor": 0,
  "metadata": {
    "celltoolbar": "Slideshow",
    "kernelspec": {
      "display_name": "Python 3",
      "language": "python",
      "name": "python3"
    },
    "language_info": {
      "codemirror_mode": {
        "name": "ipython",
        "version": 3
      },
      "file_extension": ".py",
      "mimetype": "text/x-python",
      "name": "python",
      "nbconvert_exporter": "python",
      "pygments_lexer": "ipython3",
      "version": "3.7.3"
    },
    "colab": {
      "name": "Seminar03_rus.ipynb",
      "provenance": []
    }
  },
  "cells": [
    {
      "cell_type": "code",
      "metadata": {
        "id": "bQgxLrncci_0"
      },
      "source": [
        "from IPython.core.interactiveshell import InteractiveShell\n",
        "InteractiveShell.ast_node_interactivity = \"all\""
      ],
      "execution_count": null,
      "outputs": []
    },
    {
      "cell_type": "markdown",
      "metadata": {
        "id": "ST0-JpkCcjAA"
      },
      "source": [
        "# PYTHON 3\n",
        "\n",
        "## Словари, множества, collections\n",
        "\n",
        "\n",
        "### Евгений Баулин\n",
        "\n",
        "\n",
        "MIPT 2020"
      ]
    },
    {
      "cell_type": "markdown",
      "metadata": {
        "id": "fvFKz-kQcjAB"
      },
      "source": [
        "### Создание и удаление\n",
        "\n",
        "\n",
        "- Note: При создании двух mutable-объектов отдельно - они будут гарантированно разными. Для immutable объектов это верно не всегда.\n",
        "- Об удалении объектов заботиться не нужно, за вас всё сделает интерпретатор"
      ]
    },
    {
      "cell_type": "markdown",
      "metadata": {
        "id": "c5p8THyxcjAC"
      },
      "source": [
        "## Словари\n",
        "\n",
        "Универсальное средство для выражения связей между объектами, подсчёта, группировки.\n",
        "Их иногда ещё называют **ассоциативными массивами или хеш-таблицами**."
      ]
    },
    {
      "cell_type": "code",
      "metadata": {
        "collapsed": true,
        "id": "Scj0mTSrcjAC"
      },
      "source": [
        "a = {'Key1' : 'Value1', 'Key2' : 'Value2'}\n",
        "a"
      ],
      "execution_count": null,
      "outputs": []
    },
    {
      "cell_type": "code",
      "metadata": {
        "collapsed": true,
        "id": "eTpMiEOrcjAC"
      },
      "source": [
        "b = dict([(1, 1), (2, 4), (3, 9)])\n",
        "b"
      ],
      "execution_count": null,
      "outputs": []
    },
    {
      "cell_type": "markdown",
      "metadata": {
        "id": "bBMfr_YDcjAD"
      },
      "source": [
        "Ключом словаря может быть любой hashable-объект. (mutable == not hashable)\n",
        "\n",
        "Определение hashable из документации Python: https://docs.python.org/3/glossary.html#term-hashable \n",
        "\n",
        "Если коротко, то у объекта должен быть правильно определен метод `__hash__()`"
      ]
    },
    {
      "cell_type": "markdown",
      "metadata": {
        "id": "LIY_KabZcjAE"
      },
      "source": [
        "Хэш от инта - само значение инта\n",
        "\n",
        "All of Python’s immutable built-in objects are hashable; mutable containers (such as lists or dictionaries) are not. Objects which are instances of user-defined classes are hashable by default. They all compare unequal (except with themselves), and their hash value is derived from their id()."
      ]
    },
    {
      "cell_type": "code",
      "metadata": {
        "id": "Xss7AVbicjAF",
        "outputId": "52f75b83-996b-41b5-95d2-2ef59d29f749"
      },
      "source": [
        "hash(343)\n",
        "hash(True)\n",
        "hash('hello')"
      ],
      "execution_count": null,
      "outputs": [
        {
          "output_type": "execute_result",
          "data": {
            "text/plain": [
              "343"
            ]
          },
          "metadata": {
            "tags": []
          },
          "execution_count": 2
        },
        {
          "output_type": "execute_result",
          "data": {
            "text/plain": [
              "1"
            ]
          },
          "metadata": {
            "tags": []
          },
          "execution_count": 2
        },
        {
          "output_type": "execute_result",
          "data": {
            "text/plain": [
              "-369228125001367485"
            ]
          },
          "metadata": {
            "tags": []
          },
          "execution_count": 2
        }
      ]
    },
    {
      "cell_type": "code",
      "metadata": {
        "id": "i4WdnYoRcjAH",
        "outputId": "6b6f2aea-673c-40eb-aa8f-cef9852573b7"
      },
      "source": [
        "hash(6.5) # есть тонкости, связанные с точностью представления чисел с плавающей запятой\n",
        "          # месседж: нужно быть очень аккуратным с хэшированием float и лучше их вообще не хэшировать\n",
        "hash(round(6.50443,2)) # или хэшировать вот так"
      ],
      "execution_count": null,
      "outputs": [
        {
          "output_type": "execute_result",
          "data": {
            "text/plain": [
              "1152921504606846982"
            ]
          },
          "metadata": {
            "tags": []
          },
          "execution_count": 3
        },
        {
          "output_type": "execute_result",
          "data": {
            "text/plain": [
              "1152921504606846982"
            ]
          },
          "metadata": {
            "tags": []
          },
          "execution_count": 3
        }
      ]
    },
    {
      "cell_type": "code",
      "metadata": {
        "id": "y--w1Y3rcjAI",
        "outputId": "7d83064e-47d0-49ec-bda7-92b6b35cc386"
      },
      "source": [
        "print(hash('aaa'))\n",
        "print(hash('aab'))"
      ],
      "execution_count": null,
      "outputs": [
        {
          "output_type": "stream",
          "text": [
            "3207398788893086888\n",
            "5180403706416153921\n"
          ],
          "name": "stdout"
        }
      ]
    },
    {
      "cell_type": "markdown",
      "metadata": {
        "id": "8waEWl_BcjAK"
      },
      "source": [
        "#### Note: после перезапуска интерпретатора у сложных объектов (например, строк) будет уже другое значение хэш-функции"
      ]
    },
    {
      "cell_type": "markdown",
      "metadata": {
        "id": "SV5vUpdQcjAK"
      },
      "source": [
        "list в Python не является хэшируемым объектом"
      ]
    },
    {
      "cell_type": "code",
      "metadata": {
        "id": "Ne8pEhqOcjAL",
        "outputId": "59d3ee7b-1acb-4616-ffaf-f52064ba2808"
      },
      "source": [
        "[1].__hash__ is None  # метод __hash__ не определен для списка"
      ],
      "execution_count": null,
      "outputs": [
        {
          "output_type": "execute_result",
          "data": {
            "text/plain": [
              "True"
            ]
          },
          "metadata": {
            "tags": []
          },
          "execution_count": 5
        }
      ]
    },
    {
      "cell_type": "markdown",
      "metadata": {
        "id": "ldkKqhrycjAL"
      },
      "source": [
        "Можно ли использовать словарь в качестве ключа словаря?"
      ]
    },
    {
      "cell_type": "code",
      "metadata": {
        "collapsed": true,
        "id": "PL7p7I5xcjAM"
      },
      "source": [
        "d1 = {1: 'b'}\n",
        "d2 = {d1: 'abc'}"
      ],
      "execution_count": null,
      "outputs": []
    },
    {
      "cell_type": "code",
      "metadata": {
        "collapsed": true,
        "id": "lurNaICocjAN"
      },
      "source": [
        "{1: 'b'}.__hash__ is None  # dict тоже не является хэшируемым"
      ],
      "execution_count": null,
      "outputs": []
    },
    {
      "cell_type": "markdown",
      "metadata": {
        "id": "rrEZqH93cjAO"
      },
      "source": [
        "По словарю можно итерироваться, причем как по ключам, так и по значениям"
      ]
    },
    {
      "cell_type": "code",
      "metadata": {
        "collapsed": true,
        "id": "yjbgl95lcjAP"
      },
      "source": [
        "# итерация по словарю\n",
        "dictionary = {'a': 1, 'b': 2, 'c': 3}\n",
        "   \n",
        "for k in dictionary.keys():\n",
        "    print(k)\n",
        "    \n",
        "print()\n",
        "    \n",
        "for k in dictionary:  # такая же итерация по ключам, но Python Zen говорит нам, что явное лучше, чем неявное\n",
        "    print(k)          # поэтому лучше явно прописать .keys(), чтобы улучшить читабельность кода\n",
        "                      # слишком читабельный код еще никогда никому не мешал"
      ],
      "execution_count": null,
      "outputs": []
    },
    {
      "cell_type": "code",
      "metadata": {
        "collapsed": true,
        "id": "OVKu1wyZcjAP"
      },
      "source": [
        "for v in dictionary.values(): # итерация по значениям\n",
        "    print(v)"
      ],
      "execution_count": null,
      "outputs": []
    },
    {
      "cell_type": "code",
      "metadata": {
        "collapsed": true,
        "id": "kX5bYEbJcjAQ"
      },
      "source": [
        "for pair in dictionary.items(): # итерируемся сразу по парам (ключ: значение)\n",
        "    print(pair)\n",
        "    \n",
        "    \n",
        "for key, value in dictionary.items(): # итерируемся сразу по парам (ключ: значение)\n",
        "    print(key, value)"
      ],
      "execution_count": null,
      "outputs": []
    },
    {
      "cell_type": "code",
      "metadata": {
        "collapsed": true,
        "id": "xGVKAyhicjAQ"
      },
      "source": [
        "# конструкторы:\n",
        "a = dict(a=1, b=2, c=3)\n",
        "a\n",
        "keys = [\"Petya\", \"Vasya\", \"Masha\"]\n",
        "values = [20, 21, 22]\n",
        "\n",
        "dictionary = dict(zip(keys, values)) # один из самых удобных способов создания словаря из двух списков\n",
        "\n",
        "dictionary"
      ],
      "execution_count": null,
      "outputs": []
    },
    {
      "cell_type": "code",
      "metadata": {
        "collapsed": true,
        "id": "QnDhA7ygcjAR"
      },
      "source": [
        "print(list(a.keys()))\n",
        "print(list(a.values()))\n",
        "print(list(a.items()))"
      ],
      "execution_count": null,
      "outputs": []
    },
    {
      "cell_type": "code",
      "metadata": {
        "collapsed": true,
        "id": "O9bXPQhmcjAR"
      },
      "source": [
        "del dictionary['Vasya']\n",
        "dictionary"
      ],
      "execution_count": null,
      "outputs": []
    },
    {
      "cell_type": "code",
      "metadata": {
        "collapsed": true,
        "id": "PlWTwRHbcjAR"
      },
      "source": [
        "a.update(dictionary)  # объединение двух словарей\n",
        "a"
      ],
      "execution_count": null,
      "outputs": []
    },
    {
      "cell_type": "code",
      "metadata": {
        "collapsed": true,
        "id": "UC5718uVcjAS"
      },
      "source": [
        "a[('Composite', 'Key')] = [1, 2, 3]   # only immutable objects could be keys in dicts\n",
        "a"
      ],
      "execution_count": null,
      "outputs": []
    },
    {
      "cell_type": "markdown",
      "metadata": {
        "id": "hjr49U4bcjAS"
      },
      "source": [
        "## Задачка на 5 минут\n",
        "### Используя только что полученные знания об итерировании по словарю, давайте подумаем, как обратить словарь, т.е. как создать словарь с обратными парами (значение: ключ)? Считаем, что в исходном словаре значения тоже являются хэшируемыми"
      ]
    },
    {
      "cell_type": "markdown",
      "metadata": {
        "id": "z8yg1pCLcjAS"
      },
      "source": [
        "### Помните генераторы списков (list comprehensions) с прошлого занятия? Существуют и генераторы словарей!"
      ]
    },
    {
      "cell_type": "code",
      "metadata": {
        "collapsed": true,
        "id": "oceRH-CVcjAT"
      },
      "source": [
        "dct = {i : i ** 3 for i in range(5)}\n",
        "dct"
      ],
      "execution_count": null,
      "outputs": []
    },
    {
      "cell_type": "code",
      "metadata": {
        "id": "gxk-cGNKcjAT",
        "outputId": "330d7c59-383c-4cd3-8136-31e3f7a28890"
      },
      "source": [
        "# Аккуратная обработка неизвестности\n",
        "\n",
        "dct = {1:2,3:4}\n",
        "\n",
        "key = 5\n",
        "\n",
        "res1 = dct.get(key,'not found')\n",
        "res2 = dct.setdefault(key, 'default')\n",
        "\n",
        "print(res1, res2)\n",
        "\n",
        "dct = {1:2,3:4,5:6}\n",
        "\n",
        "res1 = dct.get(key,'not found')\n",
        "res2 = dct.setdefault(key, 'default')\n",
        "\n",
        "print(res1, res2)"
      ],
      "execution_count": null,
      "outputs": [
        {
          "output_type": "stream",
          "text": [
            "not found default\n",
            "6 6\n"
          ],
          "name": "stdout"
        }
      ]
    },
    {
      "cell_type": "markdown",
      "metadata": {
        "id": "xFPQt7TTcjAT"
      },
      "source": [
        "### Множества (set)\n",
        "В основе set тоже лежит хэш-таблица"
      ]
    },
    {
      "cell_type": "code",
      "metadata": {
        "collapsed": true,
        "id": "eRw_kLa9cjAU"
      },
      "source": [
        "a = {1, 2, 3}\n",
        "b = set([2, 3, 4])\n",
        "\n",
        "a.add(5)\n",
        "b.update({5, 6}) # объединить множество с другим множеством\n",
        "a, b"
      ],
      "execution_count": null,
      "outputs": []
    },
    {
      "cell_type": "code",
      "metadata": {
        "collapsed": true,
        "id": "mVGNliX3cjAU"
      },
      "source": [
        "3 in b\n",
        "5 not in b\n",
        "b.issubset(a)   # equivalent to b <= a\n",
        "a.issuperset(b) # equivalent to a >= b\n",
        "a.isdisjoint(b) # True если пустое пересечение; equivalent to \"not a & b\""
      ],
      "execution_count": null,
      "outputs": []
    },
    {
      "cell_type": "code",
      "metadata": {
        "collapsed": true,
        "id": "k0FRrjbhcjAU"
      },
      "source": [
        "print (a - b)\n",
        "print (b - a)\n",
        "print (a | b) # объединение\n",
        "print (a & b) # пересечение\n",
        "print (a ^ b) # ~ XOR"
      ],
      "execution_count": null,
      "outputs": []
    },
    {
      "cell_type": "code",
      "metadata": {
        "collapsed": true,
        "id": "WOp1DH7ncjAV"
      },
      "source": [
        "a.difference(b)             # a - b\n",
        "a.union(b)                  # a | b\n",
        "a.intersection(b)           # a & b\n",
        "a.symmetric_difference(b)   # a ^ b\n",
        "\n",
        "a.difference_update(b)            # a -= b\n",
        "a.update(b)                       # a |= b\n",
        "a.intersection_update(b)          # a &= b\n",
        "a.symmetric_difference_update(b)  # a ^= b"
      ],
      "execution_count": null,
      "outputs": []
    },
    {
      "cell_type": "code",
      "metadata": {
        "id": "v6iSCSeacjAV",
        "outputId": "90ba73db-490c-4ad5-f5e6-840e5ef2d2b8"
      },
      "source": [
        "a = {1,2,3}\n",
        "a.remove(3)\n",
        "a.remove(3)"
      ],
      "execution_count": null,
      "outputs": [
        {
          "output_type": "error",
          "ename": "KeyError",
          "evalue": "3",
          "traceback": [
            "\u001b[0;31m---------------------------------------------------------------------------\u001b[0m",
            "\u001b[0;31mKeyError\u001b[0m                                  Traceback (most recent call last)",
            "\u001b[0;32m<ipython-input-6-16ef3113faad>\u001b[0m in \u001b[0;36m<module>\u001b[0;34m()\u001b[0m\n\u001b[1;32m      1\u001b[0m \u001b[0ma\u001b[0m \u001b[0;34m=\u001b[0m \u001b[0;34m{\u001b[0m\u001b[0;36m1\u001b[0m\u001b[0;34m,\u001b[0m\u001b[0;36m2\u001b[0m\u001b[0;34m,\u001b[0m\u001b[0;36m3\u001b[0m\u001b[0;34m}\u001b[0m\u001b[0;34m\u001b[0m\u001b[0m\n\u001b[1;32m      2\u001b[0m \u001b[0ma\u001b[0m\u001b[0;34m.\u001b[0m\u001b[0mremove\u001b[0m\u001b[0;34m(\u001b[0m\u001b[0;36m3\u001b[0m\u001b[0;34m)\u001b[0m\u001b[0;34m\u001b[0m\u001b[0m\n\u001b[0;32m----> 3\u001b[0;31m \u001b[0ma\u001b[0m\u001b[0;34m.\u001b[0m\u001b[0mremove\u001b[0m\u001b[0;34m(\u001b[0m\u001b[0;36m3\u001b[0m\u001b[0;34m)\u001b[0m\u001b[0;34m\u001b[0m\u001b[0m\n\u001b[0m",
            "\u001b[0;31mKeyError\u001b[0m: 3"
          ]
        }
      ]
    },
    {
      "cell_type": "code",
      "metadata": {
        "id": "sWUU94RKcjAV",
        "outputId": "48adac4a-4d1a-4f0b-b76b-116912b7c978"
      },
      "source": [
        "a = {1,2,3}\n",
        "a.discard(3)\n",
        "a.discard(3)\n",
        "a"
      ],
      "execution_count": null,
      "outputs": [
        {
          "output_type": "execute_result",
          "data": {
            "text/plain": [
              "{1, 2}"
            ]
          },
          "metadata": {
            "tags": []
          },
          "execution_count": 7
        }
      ]
    },
    {
      "cell_type": "markdown",
      "metadata": {
        "id": "aqel90qIcjAW"
      },
      "source": [
        "Существуют и генераторы множеств"
      ]
    },
    {
      "cell_type": "code",
      "metadata": {
        "collapsed": true,
        "id": "GcX_VAuOcjAW"
      },
      "source": [
        "st = {i for i in range(10) if not i % 3}\n",
        "st"
      ],
      "execution_count": null,
      "outputs": []
    },
    {
      "cell_type": "code",
      "metadata": {
        "collapsed": true,
        "id": "jD7uDwdIcjAX"
      },
      "source": [
        "d = {st: 1} # set тоже не является хэшируемым"
      ],
      "execution_count": null,
      "outputs": []
    },
    {
      "cell_type": "code",
      "metadata": {
        "collapsed": true,
        "id": "rF6TcxZrcjAX"
      },
      "source": [
        "d = {frozenset(st): 6}  # а вот frozenset уже можно хэшировать, так как он является неизменяемым объектом\n",
        "d"
      ],
      "execution_count": null,
      "outputs": []
    },
    {
      "cell_type": "markdown",
      "metadata": {
        "id": "anaXYinicjAX"
      },
      "source": [
        "# Для чего удобно использовать dict и set?\n",
        "\n",
        "### Установление однозначного соответствия каждому объекту из множества ключей какого-то другого объекта (условно можно удобно реализовать словарь для перевода с одного языка на другой)\n",
        "\n",
        "### Для подсчета уникальных элементов в списке/уникальных слов в тексте\n",
        "\n",
        "### Для быстрой проверки элемента на вхождение: поиск по ключу в dict и set выполняется за O(1) (в среднем): от объекта вычисляется хэш и проверяется, есть ли такой хэш в контейнере"
      ]
    },
    {
      "cell_type": "code",
      "metadata": {
        "collapsed": true,
        "id": "50294djGcjAX"
      },
      "source": [
        "2 in a     # O(1)"
      ],
      "execution_count": null,
      "outputs": []
    },
    {
      "cell_type": "markdown",
      "metadata": {
        "id": "rXx9kwZjcjAX"
      },
      "source": [
        "### Рубрика \"задачи с собеседований\"\n",
        "\n",
        "Даны два отсортированных списка с числами (не обязательно одной длины). Выведите все числа, которые есть в первом списке, но нет во втором"
      ]
    },
    {
      "cell_type": "code",
      "metadata": {
        "collapsed": true,
        "id": "xusZhjmRcjAY"
      },
      "source": [
        "lst1 = [1, 2, 8]\n",
        "lst2 = [2, 6]"
      ],
      "execution_count": null,
      "outputs": []
    },
    {
      "cell_type": "markdown",
      "metadata": {
        "id": "sAkJeynXcjAY"
      },
      "source": [
        "#### способ 1: с помощью set"
      ]
    },
    {
      "cell_type": "code",
      "metadata": {
        "collapsed": true,
        "id": "gsnhAFADcjAZ"
      },
      "source": [
        "# способ 1\n",
        "set(lst1) - set(lst2) "
      ],
      "execution_count": null,
      "outputs": []
    },
    {
      "cell_type": "markdown",
      "metadata": {
        "id": "MZii_N3GcjAZ"
      },
      "source": [
        "формально за O(n) по времени (на создание set уходит O(n), но с немалой константой), но требует доп память, и не используется отсортированность"
      ]
    },
    {
      "cell_type": "markdown",
      "metadata": {
        "id": "hEkJJWYwcjAZ"
      },
      "source": [
        "#### способ 2: давайте подумаем, как это сделать за O(n) по времени, но без доп.памяти"
      ]
    },
    {
      "cell_type": "code",
      "metadata": {
        "collapsed": true,
        "id": "W5DLEd9NcjAZ"
      },
      "source": [
        "lst1 = [1, 2, 8]\n",
        "lst2 = [2, 6]\n"
      ],
      "execution_count": null,
      "outputs": []
    },
    {
      "cell_type": "code",
      "metadata": {
        "id": "mDPcvGW4cjAa"
      },
      "source": [
        ""
      ],
      "execution_count": null,
      "outputs": []
    },
    {
      "cell_type": "code",
      "metadata": {
        "id": "baSYVYmMcjAb"
      },
      "source": [
        ""
      ],
      "execution_count": null,
      "outputs": []
    },
    {
      "cell_type": "code",
      "metadata": {
        "id": "aUVZObzJcjAb"
      },
      "source": [
        ""
      ],
      "execution_count": null,
      "outputs": []
    },
    {
      "cell_type": "code",
      "metadata": {
        "id": "d39KDH7icjAb"
      },
      "source": [
        ""
      ],
      "execution_count": null,
      "outputs": []
    },
    {
      "cell_type": "code",
      "metadata": {
        "id": "eg79NPgScjAb"
      },
      "source": [
        "i, j = 0, 0\n",
        "\n",
        "while i < len(lst1):\n",
        "\n",
        "    if j >= len(lst2) or lst1[i] < lst2[j]: \n",
        "        \n",
        "        print(lst1[i])\n",
        "        i += 1\n",
        "   \n",
        "    elif lst1[i] == lst2[j]:\n",
        "        \n",
        "        i += 1\n",
        "        j += 1\n",
        "    \n",
        "    else:\n",
        "        \n",
        "        j += 1"
      ],
      "execution_count": null,
      "outputs": []
    },
    {
      "cell_type": "markdown",
      "metadata": {
        "id": "roUYAZmHcjAc"
      },
      "source": [
        "### collections\n",
        "Объекты в collections - модифицированные для разных нужд словари и еще несколько удобных структур данных.\n",
        "\n",
        "Хороший краткий обзор модуля collections можно почитать [здесь](https://pythonworld.ru/moduli/modul-collections.html) "
      ]
    },
    {
      "cell_type": "code",
      "metadata": {
        "collapsed": true,
        "id": "Za539WIDcjAc"
      },
      "source": [
        "from collections import defaultdict\n",
        "dct = defaultdict(float)\n",
        "\n",
        "print(dct[2]) # если ключа нет, то устанавливает дефолтное значение\n",
        "print(dct)"
      ],
      "execution_count": null,
      "outputs": []
    },
    {
      "cell_type": "code",
      "metadata": {
        "collapsed": true,
        "id": "Gdf3JDXdcjAc"
      },
      "source": [
        "from collections import deque\n",
        "q = deque()\n",
        "\n",
        "for i in range(10):\n",
        "    q.append(i)\n",
        "\n",
        "while len(q) > 5: \n",
        "    print(q.pop(), q) # O(1)\n",
        "\n",
        "print()\n",
        "    \n",
        "while len(q):  # пока дек не пуст\n",
        "    print(q.popleft(), q) # O(1)"
      ],
      "execution_count": null,
      "outputs": []
    },
    {
      "cell_type": "code",
      "metadata": {
        "collapsed": true,
        "id": "nFJbrvgqcjAd"
      },
      "source": [
        "from collections import OrderedDict # помнит порядок, в котором ему были даны ключи\n",
        "\n",
        "# C 3.7 версии сохранение порядка гарантируется и для dict, но:\n",
        "# Операция сравнения для обычных диктов всё ещё не учитывает порядок в отличие от OrderedDict\n",
        "# А ещё у OrderedDict есть метод move_to_end (подвинуть существующий элемент в конец), которого нет в дикте\n",
        "\n",
        "data = [(1, 'a'), (3, 'c'), (2, 'b')]\n",
        "\n",
        "print(dict(data))\n",
        "print(OrderedDict(data))"
      ],
      "execution_count": null,
      "outputs": []
    },
    {
      "cell_type": "markdown",
      "metadata": {
        "id": "75F6PHkocjAd"
      },
      "source": [
        "## Задача - дан список, найти максимальный элемент списка, который встречается чаще других"
      ]
    },
    {
      "cell_type": "code",
      "metadata": {
        "collapsed": true,
        "id": "_32nO5S-cjAd"
      },
      "source": [
        ""
      ],
      "execution_count": null,
      "outputs": []
    },
    {
      "cell_type": "code",
      "metadata": {
        "collapsed": true,
        "id": "zBM6A0L7cjAe"
      },
      "source": [
        ""
      ],
      "execution_count": null,
      "outputs": []
    },
    {
      "cell_type": "code",
      "metadata": {
        "id": "jRIw0gu7cjAe"
      },
      "source": [
        "# Тут пригодится Counter из collections, который умеет вот так:\n",
        "# Counter(lst).most_common(2) # что обозначает двойка предлагается выяснить самостоятельно"
      ],
      "execution_count": null,
      "outputs": []
    }
  ]
}